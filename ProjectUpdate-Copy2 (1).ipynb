{
 "cells": [
  {
   "cell_type": "code",
   "execution_count": 1,
   "id": "c73daaab",
   "metadata": {},
   "outputs": [],
   "source": [
    "import pandas as pd\n",
    "import matplotlib.pyplot as plt\n",
    "df=pd.read_csv('Combined_News_DJIA.csv', encoding = \"ISO-8859-1\")"
   ]
  },
  {
   "cell_type": "code",
   "execution_count": 2,
   "id": "dc8b1928",
   "metadata": {},
   "outputs": [],
   "source": [
    "import warnings\n",
    "warnings.filterwarnings('ignore')"
   ]
  },
  {
   "cell_type": "markdown",
   "id": "343f14bf",
   "metadata": {},
   "source": [
    "Data Cleaning"
   ]
  },
  {
   "cell_type": "markdown",
   "id": "c0e472a2",
   "metadata": {},
   "source": [
    "Steps:\n",
    "1. Check for missing data\n",
    "1. Rename the Column Header\n",
    "2. Remove punctuation Marks and Html tags\n",
    "3. Lower the case\n",
    "4. Join the 25 news headlines columns to create a single BOW for each date row\n",
    "5. Check if the data is imbalanced"
   ]
  },
  {
   "cell_type": "code",
   "execution_count": 5,
   "id": "2143bb07",
   "metadata": {},
   "outputs": [
    {
     "name": "stdout",
     "output_type": "stream",
     "text": [
      "Date     0\n",
      "Label    0\n",
      "Top1     0\n",
      "Top2     0\n",
      "Top3     0\n",
      "Top4     0\n",
      "Top5     0\n",
      "Top6     0\n",
      "Top7     0\n",
      "Top8     0\n",
      "Top9     0\n",
      "Top10    0\n",
      "Top11    0\n",
      "Top12    0\n",
      "Top13    0\n",
      "Top14    0\n",
      "Top15    0\n",
      "Top16    0\n",
      "Top17    0\n",
      "Top18    0\n",
      "Top19    0\n",
      "Top20    0\n",
      "Top21    0\n",
      "Top22    0\n",
      "Top23    1\n",
      "Top24    3\n",
      "Top25    3\n",
      "dtype: int64\n",
      "1986\n"
     ]
    }
   ],
   "source": [
    "#drop empty columns\n",
    "print(df.isna().sum())\n",
    "df= df.dropna(axis=0, how='any')\n",
    "\n",
    "df=df.reset_index(drop=True)\n",
    "print(len(df))\n",
    "data=df.iloc[:,2:27]\n"
   ]
  },
  {
   "cell_type": "code",
   "execution_count": 6,
   "id": "0f66b91c",
   "metadata": {},
   "outputs": [],
   "source": [
    "# Renaming column names for ease of access\n",
    "list1= range(25)\n",
    "data.columns = list1"
   ]
  },
  {
   "cell_type": "code",
   "execution_count": 7,
   "id": "5761032c",
   "metadata": {},
   "outputs": [],
   "source": [
    "#removing punctuations\n",
    "data.replace(\"[^a-zA-Z]\",\" \",regex=True, inplace=True)\n",
    "\n",
    "#remove character tags\n",
    "punctuation = \"b\"\n",
    "for i in range(0,25):\n",
    "    for j in range(len(data)):\n",
    "        data.iloc[j,i]=' '.join([x.strip(punctuation) for x in data.iloc[j,i].split()])  \n"
   ]
  },
  {
   "cell_type": "code",
   "execution_count": 8,
   "id": "ff9552be",
   "metadata": {},
   "outputs": [
    {
     "data": {
      "text/plain": [
       "0     Georgia downs two Russian warplanes as countr...\n",
       "1     Why wont America and Nato help us If they won...\n",
       "2     Remember that adorable year old who sang at t...\n",
       "3     U S refuses Israel weapons to attack Iran rep...\n",
       "4     All the experts admit that we should legalise...\n",
       "Name: merge_headline, dtype: object"
      ]
     },
     "execution_count": 8,
     "metadata": {},
     "output_type": "execute_result"
    }
   ],
   "source": [
    "#joining all the headlines\n",
    "headlines = []\n",
    "for row in range(0,len(data.index)):\n",
    "    headlines.append(' '.join(str(x) for x in data.iloc[row,0:25]))\n",
    "df['merge_headline'] = headlines\n",
    "df['merge_headline'].head()"
   ]
  },
  {
   "cell_type": "code",
   "execution_count": 9,
   "id": "0effaffc",
   "metadata": {},
   "outputs": [
    {
     "data": {
      "text/plain": [
       "Label\n",
       "1    1062\n",
       "0     924\n",
       "Name: count, dtype: int64"
      ]
     },
     "execution_count": 9,
     "metadata": {},
     "output_type": "execute_result"
    }
   ],
   "source": [
    "#check the \n",
    "df.Label.value_counts()"
   ]
  },
  {
   "cell_type": "code",
   "execution_count": 10,
   "id": "32ce1cab",
   "metadata": {},
   "outputs": [
    {
     "data": {
      "text/plain": [
       "Text(0, 0.5, 'Count')"
      ]
     },
     "execution_count": 10,
     "metadata": {},
     "output_type": "execute_result"
    },
    {
     "data": {
      "image/png": "[encoded data removed]",
      "text/plain": [
       "<Figure size 640x480 with 1 Axes>"
      ]
     },
     "metadata": {},
     "output_type": "display_data"
    }
   ],
   "source": [
    "df.Label.value_counts().plot(kind=\"bar\")\n",
    "plt.title(\"Class-Imbalance Check\")\n",
    "plt.xlabel(\"Classes\")\n",
    "plt.ylabel(\"Count\")"
   ]
  },
  {
   "cell_type": "code",
   "execution_count": 11,
   "id": "c2012600",
   "metadata": {},
   "outputs": [
    {
     "ename": "ImportError",
     "evalue": "cannot import name 'triu' from 'scipy.linalg' (C:\\Users\\HP\\anaconda3\\Lib\\site-packages\\scipy\\linalg\\__init__.py)",
     "output_type": "error",
     "traceback": [
      "\u001b[1;31m---------------------------------------------------------------------------\u001b[0m",
      "\u001b[1;31mImportError\u001b[0m                               Traceback (most recent call last)",
      "Cell \u001b[1;32mIn[11], line 1\u001b[0m\n\u001b[1;32m----> 1\u001b[0m \u001b[38;5;28;01mfrom\u001b[39;00m \u001b[38;5;21;01mgensim\u001b[39;00m\u001b[38;5;21;01m.\u001b[39;00m\u001b[38;5;21;01mutils\u001b[39;00m \u001b[38;5;28;01mimport\u001b[39;00m simple_preprocess\n\u001b[0;32m      2\u001b[0m \u001b[38;5;66;03m# Tokenize the text column to get the new column 'tokenized_text'\u001b[39;00m\n\u001b[0;32m      3\u001b[0m df[\u001b[38;5;124m'\u001b[39m\u001b[38;5;124mmerge_headline\u001b[39m\u001b[38;5;124m'\u001b[39m] \u001b[38;5;241m=\u001b[39m [simple_preprocess(line, deacc\u001b[38;5;241m=\u001b[39m\u001b[38;5;28;01mTrue\u001b[39;00m) \u001b[38;5;28;01mfor\u001b[39;00m line \u001b[38;5;129;01min\u001b[39;00m df[\u001b[38;5;124m'\u001b[39m\u001b[38;5;124mmerge_headline\u001b[39m\u001b[38;5;124m'\u001b[39m] ] \n",
      "File \u001b[1;32m~\\anaconda3\\Lib\\site-packages\\gensim\\__init__.py:11\u001b[0m\n\u001b[0;32m      7\u001b[0m __version__ \u001b[38;5;241m=\u001b[39m \u001b[38;5;124m'\u001b[39m\u001b[38;5;124m4.3.2\u001b[39m\u001b[38;5;124m'\u001b[39m\n\u001b[0;32m      9\u001b[0m \u001b[38;5;28;01mimport\u001b[39;00m \u001b[38;5;21;01mlogging\u001b[39;00m\n\u001b[1;32m---> 11\u001b[0m \u001b[38;5;28;01mfrom\u001b[39;00m \u001b[38;5;21;01mgensim\u001b[39;00m \u001b[38;5;28;01mimport\u001b[39;00m parsing, corpora, matutils, interfaces, models, similarities, utils  \u001b[38;5;66;03m# noqa:F401\u001b[39;00m\n\u001b[0;32m     14\u001b[0m logger \u001b[38;5;241m=\u001b[39m logging\u001b[38;5;241m.\u001b[39mgetLogger(\u001b[38;5;124m'\u001b[39m\u001b[38;5;124mgensim\u001b[39m\u001b[38;5;124m'\u001b[39m)\n\u001b[0;32m     15\u001b[0m \u001b[38;5;28;01mif\u001b[39;00m \u001b[38;5;129;01mnot\u001b[39;00m logger\u001b[38;5;241m.\u001b[39mhandlers:  \u001b[38;5;66;03m# To ensure reload() doesn't add another one\u001b[39;00m\n",
      "File \u001b[1;32m~\\anaconda3\\Lib\\site-packages\\gensim\\corpora\\__init__.py:6\u001b[0m\n\u001b[0;32m      1\u001b[0m \u001b[38;5;124;03m\"\"\"\u001b[39;00m\n\u001b[0;32m      2\u001b[0m \u001b[38;5;124;03mThis package contains implementations of various streaming corpus I/O format.\u001b[39;00m\n\u001b[0;32m      3\u001b[0m \u001b[38;5;124;03m\"\"\"\u001b[39;00m\n\u001b[0;32m      5\u001b[0m \u001b[38;5;66;03m# bring corpus classes directly into package namespace, to save some typing\u001b[39;00m\n\u001b[1;32m----> 6\u001b[0m \u001b[38;5;28;01mfrom\u001b[39;00m \u001b[38;5;21;01m.\u001b[39;00m\u001b[38;5;21;01mindexedcorpus\u001b[39;00m \u001b[38;5;28;01mimport\u001b[39;00m IndexedCorpus  \u001b[38;5;66;03m# noqa:F401 must appear before the other classes\u001b[39;00m\n\u001b[0;32m      8\u001b[0m \u001b[38;5;28;01mfrom\u001b[39;00m \u001b[38;5;21;01m.\u001b[39;00m\u001b[38;5;21;01mmmcorpus\u001b[39;00m \u001b[38;5;28;01mimport\u001b[39;00m MmCorpus  \u001b[38;5;66;03m# noqa:F401\u001b[39;00m\n\u001b[0;32m      9\u001b[0m \u001b[38;5;28;01mfrom\u001b[39;00m \u001b[38;5;21;01m.\u001b[39;00m\u001b[38;5;21;01mbleicorpus\u001b[39;00m \u001b[38;5;28;01mimport\u001b[39;00m BleiCorpus  \u001b[38;5;66;03m# noqa:F401\u001b[39;00m\n",
      "File \u001b[1;32m~\\anaconda3\\Lib\\site-packages\\gensim\\corpora\\indexedcorpus.py:14\u001b[0m\n\u001b[0;32m     10\u001b[0m \u001b[38;5;28;01mimport\u001b[39;00m \u001b[38;5;21;01mlogging\u001b[39;00m\n\u001b[0;32m     12\u001b[0m \u001b[38;5;28;01mimport\u001b[39;00m \u001b[38;5;21;01mnumpy\u001b[39;00m\n\u001b[1;32m---> 14\u001b[0m \u001b[38;5;28;01mfrom\u001b[39;00m \u001b[38;5;21;01mgensim\u001b[39;00m \u001b[38;5;28;01mimport\u001b[39;00m interfaces, utils\n\u001b[0;32m     16\u001b[0m logger \u001b[38;5;241m=\u001b[39m logging\u001b[38;5;241m.\u001b[39mgetLogger(\u001b[38;5;18m__name__\u001b[39m)\n\u001b[0;32m     19\u001b[0m \u001b[38;5;28;01mclass\u001b[39;00m \u001b[38;5;21;01mIndexedCorpus\u001b[39;00m(interfaces\u001b[38;5;241m.\u001b[39mCorpusABC):\n",
      "File \u001b[1;32m~\\anaconda3\\Lib\\site-packages\\gensim\\interfaces.py:19\u001b[0m\n\u001b[0;32m      7\u001b[0m \u001b[38;5;124;03m\"\"\"Basic interfaces used across the whole Gensim package.\u001b[39;00m\n\u001b[0;32m      8\u001b[0m \n\u001b[0;32m      9\u001b[0m \u001b[38;5;124;03mThese interfaces are used for building corpora, model transformation and similarity queries.\u001b[39;00m\n\u001b[1;32m   (...)\u001b[0m\n\u001b[0;32m     14\u001b[0m \n\u001b[0;32m     15\u001b[0m \u001b[38;5;124;03m\"\"\"\u001b[39;00m\n\u001b[0;32m     17\u001b[0m \u001b[38;5;28;01mimport\u001b[39;00m \u001b[38;5;21;01mlogging\u001b[39;00m\n\u001b[1;32m---> 19\u001b[0m \u001b[38;5;28;01mfrom\u001b[39;00m \u001b[38;5;21;01mgensim\u001b[39;00m \u001b[38;5;28;01mimport\u001b[39;00m utils, matutils\n\u001b[0;32m     22\u001b[0m logger \u001b[38;5;241m=\u001b[39m logging\u001b[38;5;241m.\u001b[39mgetLogger(\u001b[38;5;18m__name__\u001b[39m)\n\u001b[0;32m     25\u001b[0m \u001b[38;5;28;01mclass\u001b[39;00m \u001b[38;5;21;01mCorpusABC\u001b[39;00m(utils\u001b[38;5;241m.\u001b[39mSaveLoad):\n",
      "File \u001b[1;32m~\\anaconda3\\Lib\\site-packages\\gensim\\matutils.py:20\u001b[0m\n\u001b[0;32m     18\u001b[0m \u001b[38;5;28;01mimport\u001b[39;00m \u001b[38;5;21;01mscipy\u001b[39;00m\u001b[38;5;21;01m.\u001b[39;00m\u001b[38;5;21;01msparse\u001b[39;00m\n\u001b[0;32m     19\u001b[0m \u001b[38;5;28;01mfrom\u001b[39;00m \u001b[38;5;21;01mscipy\u001b[39;00m\u001b[38;5;21;01m.\u001b[39;00m\u001b[38;5;21;01mstats\u001b[39;00m \u001b[38;5;28;01mimport\u001b[39;00m entropy\n\u001b[1;32m---> 20\u001b[0m \u001b[38;5;28;01mfrom\u001b[39;00m \u001b[38;5;21;01mscipy\u001b[39;00m\u001b[38;5;21;01m.\u001b[39;00m\u001b[38;5;21;01mlinalg\u001b[39;00m \u001b[38;5;28;01mimport\u001b[39;00m get_blas_funcs, triu\n\u001b[0;32m     21\u001b[0m \u001b[38;5;28;01mfrom\u001b[39;00m \u001b[38;5;21;01mscipy\u001b[39;00m\u001b[38;5;21;01m.\u001b[39;00m\u001b[38;5;21;01mlinalg\u001b[39;00m\u001b[38;5;21;01m.\u001b[39;00m\u001b[38;5;21;01mlapack\u001b[39;00m \u001b[38;5;28;01mimport\u001b[39;00m get_lapack_funcs\n\u001b[0;32m     22\u001b[0m \u001b[38;5;28;01mfrom\u001b[39;00m \u001b[38;5;21;01mscipy\u001b[39;00m\u001b[38;5;21;01m.\u001b[39;00m\u001b[38;5;21;01mspecial\u001b[39;00m \u001b[38;5;28;01mimport\u001b[39;00m psi  \u001b[38;5;66;03m# gamma function utils\u001b[39;00m\n",
      "\u001b[1;31mImportError\u001b[0m: cannot import name 'triu' from 'scipy.linalg' (C:\\Users\\HP\\anaconda3\\Lib\\site-packages\\scipy\\linalg\\__init__.py)"
     ]
    }
   ],
   "source": [
    "from gensim.utils import simple_preprocess\n",
    "# Tokenize the text column to get the new column 'tokenized_text'\n",
    "df['merge_headline'] = [simple_preprocess(line, deacc=True) for line in df['merge_headline'] ] \n",
    "df['merge_headline']= df['merge_headline'].apply(lambda x: \" \".join(x) )\n",
    "df['merge_headline']"
   ]
  },
  {
   "cell_type": "code",
   "execution_count": null,
   "id": "cff83fdd",
   "metadata": {},
   "outputs": [],
   "source": [
    "import pandas as pd\n",
    "import nltk\n",
    "from nltk.corpus import stopwords\n",
    "from nltk.tokenize import word_tokenize\n",
    "\n",
    "# Ensure NLTK resources are downloaded\n",
    "nltk.download('punkt')\n",
    "nltk.download('stopwords')\n",
    "\n",
    "# Load stopwords\n",
    "stop_words = set(stopwords.words('english'))\n",
    "\n",
    "# Function to remove stopwords and tokenize\n",
    "def remove_stopwords(text):\n",
    "    tokens = word_tokenize(text)\n",
    "    filtered_tokens = [token for token in tokens if token.lower() not in stop_words and token.isalpha()]  # Ensure to remove non-alphabetic tokens\n",
    "    return filtered_tokens\n",
    "\n",
    "# Apply the function to remove stopwords and tokenize each sentence\n",
    "df['merge_headline'] = df['merge_headline'].apply(remove_stopwords)\n"
   ]
  },
  {
   "cell_type": "code",
   "execution_count": null,
   "id": "e8eb0869",
   "metadata": {},
   "outputs": [],
   "source": [
    "\n",
    "from nltk.stem import PorterStemmer\n",
    "\n",
    "# Define a stemmer\n",
    "stemmer = PorterStemmer()\n",
    "\n",
    "# Define a function to apply stemming to a text\n",
    "def apply_stemming(text):\n",
    "    tokens = nltk.word_tokenize(text)\n",
    "    stemmed_tokens = [stemmer.stem(token) for token in tokens]\n",
    "    return ' '.join(stemmed_tokens)\n",
    "\n",
    "# Apply the function to the text column\n",
    "df['merge_headline'] = df['merge_headline'].apply(apply_stemming)"
   ]
  },
  {
   "cell_type": "code",
   "execution_count": null,
   "id": "a8ecab15",
   "metadata": {},
   "outputs": [],
   "source": [
    "from sklearn.feature_extraction.text import CountVectorizer\n",
    "basictrain = CountVectorizer().fit(df['merge_headline'])\n",
    "basictrain.get_feature_names_out()\n"
   ]
  },
  {
   "cell_type": "code",
   "execution_count": null,
   "id": "017b8ece",
   "metadata": {},
   "outputs": [],
   "source": [
    "len(basictrain.get_feature_names())"
   ]
  },
  {
   "cell_type": "code",
   "execution_count": null,
   "id": "aeef0672",
   "metadata": {},
   "outputs": [],
   "source": [
    "all_words = ' '.join([text for text in df['merge_headline']]) \n",
    "import matplotlib.pyplot as plt \n",
    "from wordcloud import WordCloud\n",
    "wordcloud = WordCloud(width=800, height=500, random_state=21, max_font_size=110).generate(all_words) \n",
    "plt.figure(figsize=(10, 7)) \n",
    "plt.imshow(wordcloud, interpolation=\"bilinear\") \n",
    "plt.axis('off')\n",
    "plt.show()"
   ]
  },
  {
   "cell_type": "code",
   "execution_count": null,
   "id": "3d8b3752",
   "metadata": {},
   "outputs": [],
   "source": [
    "up_words =' '.join([text for text in df['merge_headline'][df['Label'] == 0]]) \n",
    "\n",
    "wordcloud = WordCloud(width=800, height=500, random_state=21, max_font_size=110).generate(up_words)\n",
    "plt.figure(figsize=(10, 7))\n",
    "plt.imshow(wordcloud, interpolation=\"bilinear\")\n",
    "plt.axis('off')\n",
    "plt.show()"
   ]
  },
  {
   "cell_type": "code",
   "execution_count": null,
   "id": "ab50b95c",
   "metadata": {},
   "outputs": [],
   "source": [
    "down_words =' '.join([text for text in df['merge_headline'][df['Label'] == 1]]) \n",
    "\n",
    "wordcloud = WordCloud(width=800, height=500, random_state=21, max_font_size=110).generate(down_words)\n",
    "plt.figure(figsize=(10, 7))\n",
    "plt.imshow(wordcloud, interpolation=\"bilinear\")\n",
    "plt.axis('off')\n",
    "plt.show()"
   ]
  },
  {
   "cell_type": "code",
   "execution_count": null,
   "id": "43af7aa4",
   "metadata": {},
   "outputs": [],
   "source": [
    "from sklearn.model_selection import train_test_split\n",
    "X_train,X_test,y_train,y_test=train_test_split(df['merge_headline'],df['Label'],test_size=0.3,random_state=42)"
   ]
  },
  {
   "cell_type": "code",
   "execution_count": null,
   "id": "62f30336",
   "metadata": {},
   "outputs": [],
   "source": [
    "basictrain_1 = CountVectorizer().fit(X_train)\n",
    "basictrain_1.get_feature_names_out()[::2000]"
   ]
  },
  {
   "cell_type": "code",
   "execution_count": null,
   "id": "61a48ba1",
   "metadata": {},
   "outputs": [],
   "source": [
    "len(basictrain_1.get_feature_names_out())"
   ]
  },
  {
   "cell_type": "code",
   "execution_count": null,
   "id": "b85fd0ab",
   "metadata": {},
   "outputs": [],
   "source": [
    "X_train_vector = basictrain_1.transform(X_train)\n",
    "X_train_vector"
   ]
  },
  {
   "cell_type": "code",
   "execution_count": null,
   "id": "55cefee7",
   "metadata": {},
   "outputs": [],
   "source": [
    "import numpy as np\n",
    "from sklearn.metrics import accuracy_score\n",
    "from sklearn.linear_model import LogisticRegression\n",
    "model = LogisticRegression(solver='lbfgs', max_iter=3000)\n",
    "model.fit(X_train_vector, y_train)\n",
    "predictions_train = model.predict(X_train_vector)\n",
    "print('Accuracy Score when threshold is defualt(0.5) train:', accuracy_score(y_train, predictions_train))\n",
    "predictions_test = model.predict(basictrain_1.transform(X_test))\n",
    "print('Accuracy Score when threshold is defualt(0.5) test:', accuracy_score(y_test, predictions_test))\n"
   ]
  },
  {
   "cell_type": "code",
   "execution_count": null,
   "id": "dc42ba80",
   "metadata": {},
   "outputs": [],
   "source": [
    "bow_vector = CountVectorizer(max_df=0.95, min_df=0.05)\n",
    "bow_X_train= bow_vector.fit(X_train)\n",
    "len(bow_vector.get_feature_names_out())"
   ]
  },
  {
   "cell_type": "code",
   "execution_count": null,
   "id": "059caf6e",
   "metadata": {},
   "outputs": [],
   "source": [
    "X_bow_train_vector = bow_vector.transform(X_train)\n",
    "X_bow_train_vector.shape"
   ]
  },
  {
   "cell_type": "code",
   "execution_count": null,
   "id": "23d58554",
   "metadata": {},
   "outputs": [],
   "source": [
    "bow_vector.vocabulary_"
   ]
  },
  {
   "cell_type": "code",
   "execution_count": null,
   "id": "560fc4f4",
   "metadata": {},
   "outputs": [],
   "source": [
    "word_list = bow_vector.get_feature_names() \n",
    "count_list = X_bow_train_vector.toarray().sum(axis=0)\n"
   ]
  },
  {
   "cell_type": "code",
   "execution_count": null,
   "id": "5a7b629f",
   "metadata": {},
   "outputs": [],
   "source": [
    "import matplotlib.pyplot as plt\n",
    "\n",
    "# Create a dictionary of the word counts\n",
    "word_counts = dict(zip(word_list, count_list))\n",
    "\n",
    "# Sort the words by their counts in descending order\n",
    "sorted_word_counts = dict(sorted(word_counts.items(), key=lambda item: item[1], reverse=True))\n",
    "\n",
    "# Create a bar chart of the top 20 words\n",
    "top_words = list(sorted_word_counts.keys())[:20]\n",
    "word_counts = [sorted_word_counts[word] for word in top_words]\n",
    "\n",
    "plt.bar(top_words, word_counts)\n",
    "plt.xticks(rotation=90)\n",
    "plt.xlabel('Words')\n",
    "plt.ylabel('Count')\n",
    "plt.show()"
   ]
  },
  {
   "cell_type": "code",
   "execution_count": null,
   "id": "f5b2628a",
   "metadata": {},
   "outputs": [],
   "source": [
    "import matplotlib.pyplot as plt\n",
    "\n",
    "# Create a dictionary of the word counts\n",
    "word_counts = dict(zip(word_list, count_list))\n",
    "\n",
    "# Sort the words by their counts in descending order\n",
    "sorted_word_counts = dict(sorted(word_counts.items(), key=lambda item: item[1], reverse=True))\n",
    "\n",
    "# Create a bar chart of the top 20 words\n",
    "top_words = list(sorted_word_counts.keys())[-20:]\n",
    "word_counts = [sorted_word_counts[word] for word in top_words]\n",
    "\n",
    "plt.bar(top_words, word_counts)\n",
    "plt.xticks(rotation=90)\n",
    "plt.xlabel('Words')\n",
    "plt.ylabel('Count')\n",
    "plt.show()"
   ]
  },
  {
   "cell_type": "code",
   "execution_count": null,
   "id": "1f07c90a",
   "metadata": {},
   "outputs": [],
   "source": [
    "\n",
    "model.fit(X_bow_train_vector, y_train)\n",
    "predictions_train = model.predict(X_bow_train_vector)\n",
    "print('Accuracy Score when threshold is defualt(0.5) train:', accuracy_score(y_train, predictions_train))\n",
    "predictions_test = model.predict(bow_vector.transform(X_test))\n",
    "print('Accuracy Score when threshold is defualt(0.5) test:', accuracy_score(y_test, predictions_test))\n"
   ]
  },
  {
   "cell_type": "code",
   "execution_count": null,
   "id": "341de73e",
   "metadata": {},
   "outputs": [],
   "source": [
    "from sklearn.metrics import confusion_matrix\n",
    "import seaborn as sns\n",
    "cf_matrix = confusion_matrix(y_test,predictions_test)\n",
    "group_names = ['True Neg','False Pos','False Neg','True Pos']\n",
    "group_counts = [\"{0:0.0f}\".format(value) for value in\n",
    "                cf_matrix.flatten()]\n",
    "group_percentages = [\"{0:.2%}\".format(value) for value in\n",
    "                     cf_matrix.flatten()/np.sum(cf_matrix)]\n",
    "labels = [f\"{v1}\\n{v2}\\n{v3}\" for v1, v2, v3 in\n",
    "          zip(group_names,group_counts,group_percentages)]\n",
    "labels = np.asarray(labels).reshape(2,2)\n",
    "sns.heatmap(cf_matrix, annot=labels, fmt='', cmap='Blues')"
   ]
  },
  {
   "cell_type": "code",
   "execution_count": null,
   "id": "c77521dc",
   "metadata": {},
   "outputs": [],
   "source": [
    "feature_names = np.array(bow_vector.get_feature_names())\n",
    "sorted_coef_index = model.coef_[0].argsort()\n",
    "print('Smallest Coefs:\\n{}\\n'.format(feature_names[sorted_coef_index[:10]]))\n",
    "print('Largest Coefs: \\n{}'.format(feature_names[sorted_coef_index[:-11:-1]]))"
   ]
  },
  {
   "cell_type": "code",
   "execution_count": null,
   "id": "4b035028",
   "metadata": {},
   "outputs": [],
   "source": [
    "from sklearn.feature_extraction.text import TfidfVectorizer\n",
    "tfidf_vector = TfidfVectorizer( max_df=0.95, min_df=0.05)\n",
    "tfidf_X_train = tfidf_vector.fit(X_train)\n",
    "tfidf_X_train_vector =tfidf_vector.transform(X_train)\n",
    "len(tfidf_vector.get_feature_names_out())"
   ]
  },
  {
   "cell_type": "code",
   "execution_count": null,
   "id": "d41ae341",
   "metadata": {},
   "outputs": [],
   "source": [
    "model.fit(tfidf_X_train_vector, y_train)\n",
    "predictions_test = model.predict(tfidf_vector.transform(X_test))\n",
    "predictions_train = model.predict(tfidf_vector.transform(X_train))\n",
    "\n",
    "print('Accuracy Score when threshold is defualt(0.5) train:', accuracy_score(y_train, predictions_train))\n",
    "print('Accuracy Score when threshold is defualt(0.5) test:', accuracy_score(y_test, predictions_test))\n",
    "\n"
   ]
  },
  {
   "cell_type": "code",
   "execution_count": null,
   "id": "a9458d1b",
   "metadata": {},
   "outputs": [],
   "source": [
    "from sklearn.feature_extraction.text import TfidfVectorizer\n",
    "tfidf_vector_1 = TfidfVectorizer(max_df=0.95, min_df=0.05, ngram_range=(1,2) )\n",
    "tfidf_X_train_1 = tfidf_vector_1.fit(X_train)\n",
    "tfidf_X_train_vector_1 =tfidf_vector_1.transform(X_train)\n",
    "len(tfidf_vector_1.get_feature_names_out())"
   ]
  },
  {
   "cell_type": "code",
   "execution_count": null,
   "id": "01b13042",
   "metadata": {},
   "outputs": [],
   "source": [
    "model.fit(tfidf_X_train_vector_1, y_train)\n",
    "predictions_test = model.predict(tfidf_vector_1.transform(X_test))\n",
    "predictions_train = model.predict(tfidf_vector_1.transform(X_train))\n",
    "print('Accuracy Score when threshold is defualt(0.5) train:', accuracy_score(y_train, predictions_train))\n",
    "print('Accuracy Score when threshold is defualt(0.5) test:', accuracy_score(y_test, predictions_test))\n"
   ]
  },
  {
   "cell_type": "code",
   "execution_count": null,
   "id": "fcc89c68",
   "metadata": {},
   "outputs": [],
   "source": [
    "from sklearn.metrics import confusion_matrix\n",
    "import seaborn as sns\n",
    "cf_matrix = confusion_matrix(y_test,predictions_test)\n",
    "group_names = ['True Neg','False Pos','False Neg','True Pos']\n",
    "group_counts = [\"{0:0.0f}\".format(value) for value in\n",
    "                cf_matrix.flatten()]\n",
    "group_percentages = [\"{0:.2%}\".format(value) for value in\n",
    "                     cf_matrix.flatten()/np.sum(cf_matrix)]\n",
    "labels = [f\"{v1}\\n{v2}\\n{v3}\" for v1, v2, v3 in\n",
    "          zip(group_names,group_counts,group_percentages)]\n",
    "labels = np.asarray(labels).reshape(2,2)\n",
    "sns.heatmap(cf_matrix, annot=labels, fmt='', cmap='Blues')"
   ]
  },
  {
   "cell_type": "markdown",
   "id": "c18de60e",
   "metadata": {},
   "source": [
    "Cross-Validation"
   ]
  },
  {
   "cell_type": "code",
   "execution_count": null,
   "id": "7287054a",
   "metadata": {},
   "outputs": [],
   "source": [
    "from sklearn.model_selection import cross_val_score,KFold\n",
    "kf=KFold(n_splits=5)\n",
    "score=cross_val_score(model,tfidf_X_train_vector_1, y_train,cv=kf)\n",
    "print(\"Cross Validation Scores are {}\".format(score))\n",
    "print(\"Average Cross Validation score :{}\".format(score.mean()))"
   ]
  },
  {
   "cell_type": "markdown",
   "id": "0731ca10",
   "metadata": {},
   "source": [
    "Dimension Reduction Using Lasso"
   ]
  },
  {
   "cell_type": "code",
   "execution_count": null,
   "id": "a4312e87",
   "metadata": {},
   "outputs": [],
   "source": [
    "accuracies_1 = []\n",
    "accuracies_2 = []\n",
    "Cs = []\n",
    "C_range =np.logspace(np.log10(0.1), np.log10(100), num=50)\n",
    "# loop through each value of C and fit a logistic regression model\n",
    "for C in C_range:\n",
    "    # create a logistic regression model with L1 regularization and the given value of C\n",
    "    logistic_lasso = LogisticRegression(penalty='l1', solver='saga', C=C, max_iter=5000)\n",
    "    logistic_lasso.fit(tfidf_X_train_vector_1, y_train)\n",
    "    \n",
    "    # evaluate the accuracy of the model on the validation set\n",
    "    acc_train = logistic_lasso.score(tfidf_X_train_vector_1, y_train)\n",
    "    acc_test = logistic_lasso.score(tfidf_vector_1.transform(X_test), y_test)\n",
    "    # append the accuracy and C values to the lists\n",
    "    accuracies_1.append(acc_train)\n",
    "    accuracies_2.append(acc_test)\n",
    "    Cs.append(C)\n",
    "    "
   ]
  },
  {
   "cell_type": "code",
   "execution_count": null,
   "id": "f735d251",
   "metadata": {},
   "outputs": [],
   "source": [
    "# plot the accuracies versus the C values\n",
    "plt.plot(Cs, accuracies_1)\n",
    "plt.xlabel('C')\n",
    "plt.ylabel('Accuracy')\n",
    "plt.xscale('log')\n",
    "plt.show()"
   ]
  },
  {
   "cell_type": "code",
   "execution_count": null,
   "id": "55dafc01",
   "metadata": {},
   "outputs": [],
   "source": [
    "logistic_lasso = LogisticRegression(penalty='l1', solver='saga', C=3, max_iter=5000)\n",
    "logistic_lasso.fit(tfidf_X_train_vector_1, y_train)\n",
    "var_names = tfidf_vector_1.get_feature_names()\n",
    "count_list = tfidf_X_train_vector_1.toarray().sum(axis=0)\n",
    "variables_of_interest = []\n",
    "variables_coeff = []\n",
    "count = []\n",
    "for beta in range(len(logistic_lasso.coef_[0])):\n",
    "    if logistic_lasso.coef_[0][beta] !=0:\n",
    "        variables_of_interest.append(var_names[beta])\n",
    "        variables_coeff.append(logistic_lasso.coef_[0][beta])\n",
    "        count.append(count_list[beta])\n",
    "variable = pd.DataFrame(\n",
    "    {'variables_of_interest': variables_of_interest,\n",
    "     'variables_coeff': variables_coeff,\n",
    "     'count_list': count\n",
    "     \n",
    "    })\n",
    "\n",
    "count_list = tfidf_X_train_vector_1.toarray().sum(axis=0)\n",
    "\n",
    "variable.sort_values('variables_coeff')"
   ]
  },
  {
   "cell_type": "code",
   "execution_count": null,
   "id": "7feaa8da",
   "metadata": {},
   "outputs": [],
   "source": [
    "vocabulary = tfidf_vector_1.vocabulary_\n",
    "\n",
    "# Create a list of indices to keep based on the variables_of_interest\n",
    "keep_indices = [vocabulary[word] for word in variables_of_interest if word in vocabulary]\n",
    "\n",
    "# Create a new transformed document-term matrix with only the selected features\n",
    "X_train_selected = tfidf_X_train_vector_1[:, keep_indices]\n",
    "X_test_vector =  tfidf_vector_1.transform(X_test)[:, keep_indices]\n",
    "X_train_selected.shape\n",
    "X_test_vector.shape"
   ]
  },
  {
   "cell_type": "code",
   "execution_count": null,
   "id": "f554585e",
   "metadata": {},
   "outputs": [],
   "source": [
    "logistic_lasso.fit(X_train_selected, y_train)\n",
    "predictions_test = logistic_lasso.predict(X_test_vector)\n",
    "predictions_train = logistic_lasso.predict(X_train_selected)\n",
    "print('Accuracy Score when threshold is defualt(0.5) train:', accuracy_score(y_train, predictions_train))\n",
    "print('Accuracy Score when threshold is defualt(0.5) test:', accuracy_score(y_test, predictions_test))\n",
    "\n"
   ]
  },
  {
   "cell_type": "code",
   "execution_count": null,
   "id": "4614037c",
   "metadata": {},
   "outputs": [],
   "source": [
    "print('important features count', sum(logistic_lasso.coef_[0]!=0))\n"
   ]
  },
  {
   "cell_type": "code",
   "execution_count": null,
   "id": "6e156eb4",
   "metadata": {},
   "outputs": [],
   "source": [
    "from sklearn.naive_bayes import MultinomialNB\n",
    "MNB = MultinomialNB()\n",
    "MNB.fit(X_train_selected, y_train)\n",
    "predictions_test = MNB.predict(X_test_vector)\n",
    "predictions_train = MNB.predict(X_train_selected)\n",
    "print('Accuracy Score when threshold is defualt(0.5) train:', accuracy_score(y_train, predictions_train))\n",
    "print('Accuracy Score when threshold is defualt(0.5) test:', accuracy_score(y_test, predictions_test))\n"
   ]
  },
  {
   "cell_type": "code",
   "execution_count": null,
   "id": "f6676709",
   "metadata": {},
   "outputs": [],
   "source": [
    "prediction =MNB.predict_proba(X_test_vector)\n",
    "pd.DataFrame(prediction, columns=MNB.classes_)"
   ]
  },
  {
   "cell_type": "code",
   "execution_count": null,
   "id": "9811a8ac",
   "metadata": {},
   "outputs": [],
   "source": [
    "\n",
    "from sklearn.datasets import make_classification\n",
    "alphas = {'alpha': np.logspace(-3, 3, 7)}\n",
    "grid = GridSearchCV(MNB, alphas, cv=5)\n",
    "grid.fit(X_train_selected, y_train)\n",
    "# plot alpha vs accuracy\n",
    "plt.semilogx(alphas['alpha'], grid.cv_results_['mean_test_score'])\n",
    "plt.title('Alpha vs Accuracy')\n",
    "plt.xlabel('Alpha')\n",
    "plt.ylabel('Accuracy')\n",
    "plt.show()"
   ]
  },
  {
   "cell_type": "code",
   "execution_count": null,
   "id": "d3c3b612",
   "metadata": {},
   "outputs": [],
   "source": [
    "from sklearn.naive_bayes import MultinomialNB\n",
    "MNB = MultinomialNB(alpha =0.01)\n",
    "MNB.fit(X_train_selected, y_train)\n",
    "predictions_test = MNB.predict(X_test_vector)\n",
    "predictions_train = MNB.predict(X_train_selected)\n",
    "print('Accuracy Score when threshold is defualt(0.5) train:', accuracy_score(y_train, predictions_train))\n",
    "print('Accuracy Score when threshold is defualt(0.5) test:', accuracy_score(y_test, predictions_test))\n"
   ]
  },
  {
   "cell_type": "code",
   "execution_count": null,
   "id": "c7009406",
   "metadata": {
    "scrolled": true
   },
   "outputs": [],
   "source": [
    "from sklearn.metrics import confusion_matrix\n",
    "import seaborn as sns\n",
    "cf_matrix = confusion_matrix(y_test,predictions_test)\n",
    "group_names = ['True Neg','False Pos','False Neg','True Pos']\n",
    "group_counts = [\"{0:0.0f}\".format(value) for value in\n",
    "                cf_matrix.flatten()]\n",
    "group_percentages = [\"{0:.2%}\".format(value) for value in\n",
    "                     cf_matrix.flatten()/np.sum(cf_matrix)]\n",
    "labels = [f\"{v1}\\n{v2}\\n{v3}\" for v1, v2, v3 in\n",
    "          zip(group_names,group_counts,group_percentages)]\n",
    "labels = np.asarray(labels).reshape(2,2)\n",
    "sns.heatmap(cf_matrix, annot=labels, fmt='', cmap='Blues')"
   ]
  },
  {
   "cell_type": "code",
   "execution_count": null,
   "id": "49d04885",
   "metadata": {},
   "outputs": [],
   "source": [
    "from sklearn.ensemble import GradientBoostingClassifier\n",
    "from sklearn.model_selection import GridSearchCV\n",
    "param_grid = {'learning_rate':[0.001],\n",
    "              'max_depth': [1,3,5,7],\n",
    "              'n_estimators':[100,200,300,400,500, 600]}\n",
    "\n",
    "# Create a gradient boosting classifier object\n",
    "gb = GradientBoostingClassifier(random_state=42)\n",
    "\n",
    "# Perform grid search with cross-validation\n",
    "grid_search = GridSearchCV(gb, param_grid=param_grid, cv=5)\n",
    "grid_search.fit(tfidf_X_train_vector_1, y_train)\n",
    "\n",
    "# Print the best hyperparameters and the corresponding accuracy score\n",
    "print(\"Best hyperparameters: \", grid_search.best_params_)\n",
    "print(\"Best accuracy score: \", grid_search.best_score_)\n",
    "\n"
   ]
  },
  {
   "cell_type": "code",
   "execution_count": null,
   "id": "58c18f1a",
   "metadata": {},
   "outputs": [],
   "source": [
    "# Evaluate the final model on the test set\n",
    "final_model = grid_search.best_estimator_\n",
    "test_accuracy = final_model.score(tfidf_vector_1.transform(X_test), y_test)\n",
    "print(\"Test set accuracy: \", test_accuracy)"
   ]
  },
  {
   "cell_type": "code",
   "execution_count": null,
   "id": "145f1335",
   "metadata": {},
   "outputs": [],
   "source": [
    "from sklearn.neighbors import KNeighborsClassifier\n",
    "from sklearn.metrics import accuracy_score\n",
    "import matplotlib.pyplot as plt\n",
    "\n",
    "\n",
    "k_values = range(1, 10)\n",
    "\n",
    "accuracy_scores = []\n",
    "\n",
    "for k in k_values:\n",
    "    \n",
    "    knn = KNeighborsClassifier(n_neighbors=k)\n",
    "    knn.fit(tfidf_X_train_vector_1, y_train)\n",
    "    y_pred = knn.predict(tfidf_X_train_vector_1)\n",
    "    accuracy = accuracy_score(y_train, y_pred)\n",
    "    accuracy_scores.append(accuracy)\n",
    "\n",
    "# Plot the accuracy scores as a function of k\n",
    "plt.plot(k_values, accuracy_scores)\n",
    "plt.xlabel('Number of neighbors (k)')\n",
    "plt.ylabel('Accuracy')\n",
    "plt.title('KNN Accuracy as a function of k')\n",
    "plt.show()"
   ]
  },
  {
   "cell_type": "code",
   "execution_count": null,
   "id": "9cc44a31",
   "metadata": {},
   "outputs": [],
   "source": [
    "knn = KNeighborsClassifier(n_neighbors=4)\n",
    "knn.fit(tfidf_X_train_vector_1, y_train)\n",
    "y_pred = knn.predict(tfidf_vector_1.transform(X_test))\n",
    "accuracy = accuracy_score(y_test, y_pred)\n",
    "accuracy\n"
   ]
  },
  {
   "cell_type": "code",
   "execution_count": null,
   "id": "76a44536",
   "metadata": {},
   "outputs": [],
   "source": [
    "from sklearn.tree import DecisionTreeClassifier, export_graphviz,  plot_tree\n",
    "from sklearn.ensemble import RandomForestClassifier\n",
    "from sklearn.metrics import confusion_matrix, accuracy_score\n",
    "from sklearn import tree"
   ]
  },
  {
   "cell_type": "code",
   "execution_count": null,
   "id": "e6854556",
   "metadata": {},
   "outputs": [],
   "source": [
    "#### Fitting classification trees\n",
    "criteria = \"gini\" \n",
    "max_depth = 6 \n",
    "min_sample_leaf = 4\n",
    "clf_gini = DecisionTreeClassifier(criterion=criteria, random_state=100,\n",
    "                                max_depth=max_depth, min_samples_leaf=min_sample_leaf)\n",
    "clf_gini.fit(tfidf_X_train_vector, y_train)\n",
    "print(clf_gini.score(tfidf_X_train_vector, y_train))\n",
    "\n",
    "#### Fitting classification trees (ERROR)\n",
    "# one attractive feature of a tree is visulization. \n",
    "plt.figure(figsize=(5,10))  # customize according to the size of your tree\n",
    "plot_tree(clf_gini, feature_names= tfidf_X_train_vector)\n",
    "plt.show()\n"
   ]
  },
  {
   "cell_type": "code",
   "execution_count": null,
   "id": "5f1cdfdd",
   "metadata": {},
   "outputs": [],
   "source": [
    "y_pred_train = clf_gini.predict(tfidf_X_train_vector)\n",
    "cm = pd.DataFrame(confusion_matrix(y_train, y_pred_train).T, index=['No', 'Yes'], columns=['No', 'Yes'])\n",
    "print(\"Train Accuracy is \", accuracy_score(y_train,y_pred_train)*100)\n",
    "y_pred = clf_gini.predict(tfidf_vector.transform(X_test))\n",
    "cm = pd.DataFrame(confusion_matrix(y_test, y_pred).T, index=['No', 'Yes'], columns=['No', 'Yes'])\n",
    "print(\"Test Accuracy is \", accuracy_score(y_test,y_pred)*100)\n"
   ]
  },
  {
   "cell_type": "code",
   "execution_count": null,
   "id": "1b6db051",
   "metadata": {},
   "outputs": [],
   "source": [
    "from sklearn.metrics import confusion_matrix\n",
    "import seaborn as sns\n",
    "cf_matrix = confusion_matrix(y_test,y_pred)\n",
    "group_names = ['True Neg','False Pos','False Neg','True Pos']\n",
    "group_counts = [\"{0:0.0f}\".format(value) for value in\n",
    "                cf_matrix.flatten()]\n",
    "group_percentages = [\"{0:.2%}\".format(value) for value in\n",
    "                     cf_matrix.flatten()/np.sum(cf_matrix)]\n",
    "labels = [f\"{v1}\\n{v2}\\n{v3}\" for v1, v2, v3 in\n",
    "          zip(group_names,group_counts,group_percentages)]\n",
    "labels = np.asarray(labels).reshape(2,2)\n",
    "sns.heatmap(cf_matrix, annot=labels, fmt='', cmap='Blues')"
   ]
  },
  {
   "cell_type": "markdown",
   "id": "668d3f58",
   "metadata": {},
   "source": [
    "#### Bagging"
   ]
  },
  {
   "cell_type": "code",
   "execution_count": null,
   "id": "81c33c17",
   "metadata": {},
   "outputs": [],
   "source": [
    "#### Bagging and random forests \n",
    "all_features = tfidf_X_train_vector.shape[1]\n",
    "all_features"
   ]
  },
  {
   "cell_type": "code",
   "execution_count": null,
   "id": "20cd0a21",
   "metadata": {},
   "outputs": [],
   "source": [
    "regr_bagging = RandomForestClassifier(max_features=743, random_state=1)\n"
   ]
  },
  {
   "cell_type": "code",
   "execution_count": null,
   "id": "1d6824f3",
   "metadata": {},
   "outputs": [],
   "source": [
    "regr_bagging.fit(tfidf_X_train_vector, y_train)\n",
    "y_pred_train = regr_bagging.predict(tfidf_X_train_vector)\n",
    "#### Bagging and random forests \n",
    "y_pred = regr_bagging.predict(tfidf_vector.transform(X_test))"
   ]
  },
  {
   "cell_type": "code",
   "execution_count": null,
   "id": "a465c089",
   "metadata": {
    "scrolled": true
   },
   "outputs": [],
   "source": [
    "print(\"Train Accuracy is \", accuracy_score(y_train,y_pred_train)*100)"
   ]
  },
  {
   "cell_type": "code",
   "execution_count": null,
   "id": "55b4862e",
   "metadata": {},
   "outputs": [],
   "source": [
    "print(\"Test Accuracy is \", accuracy_score(y_test,y_pred)*100)"
   ]
  },
  {
   "cell_type": "code",
   "execution_count": null,
   "id": "b48cfc88",
   "metadata": {},
   "outputs": [],
   "source": [
    "regr_rf = RandomForestClassifier(max_features=27,n_estimators=100, random_state=1)\n",
    "regr_rf.fit(tfidf_X_train_vector, y_train)\n",
    "y_pred = regr_rf.predict(tfidf_vector.transform(X_test))\n",
    "y_pred_train = regr_rf.predict(tfidf_X_train_vector)\n",
    "print(\"Train Accuracy is \", accuracy_score(y_train,y_pred_train)*100)\n",
    "print(\"Test Accuracy is \", accuracy_score(y_test,y_pred)*100)"
   ]
  },
  {
   "cell_type": "code",
   "execution_count": null,
   "id": "85314e4a",
   "metadata": {},
   "outputs": [],
   "source": [
    "\n",
    "\n",
    "regr_rf = RandomForestClassifier(max_features=i,n_estimators=100, random_state=1)\n",
    "regr_rf.fit(tfidf_X_train_vector, y_train)\n",
    "y_pred = regr_rf.predict(tfidf_vector.transform(X_test))\n",
    "y_pred_train = regr_rf.predict(tfidf_X_train_vector)\n",
    "print(\"\")\n",
    "print(\"Train Accuracy is \", accuracy_score(y_train,y_pred_train)*100)\n",
    "print(\"Test Accuracy is \", accuracy_score(y_test,y_pred)*100)\n",
    "\n"
   ]
  },
  {
   "cell_type": "code",
   "execution_count": null,
   "id": "05cdcc79",
   "metadata": {},
   "outputs": [],
   "source": [
    "feature =[]\n",
    "trees = []"
   ]
  }
 ],
 "metadata": {
  "kernelspec": {
   "display_name": "Python 3 (ipykernel)",
   "language": "python",
   "name": "python3"
  },
  "language_info": {
   "codemirror_mode": {
    "name": "ipython",
    "version": 3
   },
   "file_extension": ".py",
   "mimetype": "text/x-python",
   "name": "python",
   "nbconvert_exporter": "python",
   "pygments_lexer": "ipython3",
   "version": "3.12.3"
  }
 },
 "nbformat": 4,
 "nbformat_minor": 5
}
